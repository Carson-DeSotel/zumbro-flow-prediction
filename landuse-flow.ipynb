{
 "cells": [
  {
   "cell_type": "markdown",
   "id": "06c0df10",
   "metadata": {},
   "source": [
    "# Impacts of Landuse on Water Flow Peaks\n",
    "by Martha Burket, Carson DeSotel  \n",
    "GEOG 5543  \n",
    "Fall 2021"
   ]
  },
  {
   "cell_type": "code",
   "execution_count": 8,
   "id": "9e84f085",
   "metadata": {},
   "outputs": [
    {
     "name": "stdout",
     "output_type": "stream",
     "text": [
      "Defaulting to user installation because normal site-packages is not writeable\n",
      "Requirement already satisfied: matplotlib in /home/carson/.local/lib/python3.9/site-packages (3.4.3)\n",
      "Requirement already satisfied: cycler>=0.10 in /home/carson/.local/lib/python3.9/site-packages (from matplotlib) (0.10.0)\n",
      "Requirement already satisfied: pillow>=6.2.0 in /home/carson/.local/lib/python3.9/site-packages (from matplotlib) (8.3.2)\n",
      "Requirement already satisfied: pyparsing>=2.2.1 in /usr/lib/python3.9/site-packages (from matplotlib) (2.4.7)\n",
      "Requirement already satisfied: numpy>=1.16 in /home/carson/.local/lib/python3.9/site-packages (from matplotlib) (1.21.2)\n",
      "Requirement already satisfied: kiwisolver>=1.0.1 in /home/carson/.local/lib/python3.9/site-packages (from matplotlib) (1.3.2)\n",
      "Requirement already satisfied: python-dateutil>=2.7 in /home/carson/.local/lib/python3.9/site-packages (from matplotlib) (2.8.2)\n",
      "Requirement already satisfied: six in /usr/lib/python3.9/site-packages (from cycler>=0.10->matplotlib) (1.16.0)\n",
      "Defaulting to user installation because normal site-packages is not writeable\n",
      "Requirement already satisfied: requests in /usr/lib/python3.9/site-packages (2.26.0)\n",
      "Requirement already satisfied: chardet>=3.0.2 in /usr/lib/python3.9/site-packages (from requests) (4.0.0)\n",
      "Requirement already satisfied: idna>=2.5 in /usr/lib/python3.9/site-packages (from requests) (3.2)\n",
      "Requirement already satisfied: urllib3>=1.21.1 in /usr/lib/python3.9/site-packages (from requests) (1.26.6)\n"
     ]
    }
   ],
   "source": [
    "'''\n",
    "    Installation:\n",
    "'''\n",
    "import sys\n",
    "!{sys.executable} -m pip install matplotlib\n",
    "!{sys.executable} -m pip install requests"
   ]
  },
  {
   "cell_type": "code",
   "execution_count": 1,
   "id": "8c99210d",
   "metadata": {},
   "outputs": [],
   "source": [
    "'''\n",
    "    Imports:\n",
    "'''\n",
    "import json\n",
    "import requests\n",
    "import pandas as pd\n",
    "import matplotlib.pyplot as plt"
   ]
  },
  {
   "cell_type": "markdown",
   "id": "0ff4f37b",
   "metadata": {},
   "source": [
    "### References\n",
    "[1] https://www.earthdatascience.org/tutorials/acquire-and-visualize-usgs-hydrology-data/  \n",
    "[2] https://waterservices.usgs.gov/rest/IV-Service.html  \n",
    "[3] https://www.ogc.org/standards/waterml  \n",
    "[4] https://docs.python-requests.org/en/latest/user/quickstart/  \n",
    "[5] https://www.usgs.gov/special-topic/water-science-school/science/how-streamflow-measured?qt-science_center_objects=0#qt-science_center_objects  \n"
   ]
  },
  {
   "cell_type": "code",
   "execution_count": null,
   "id": "b3a56cf0",
   "metadata": {},
   "outputs": [],
   "source": []
  }
 ],
 "metadata": {
  "kernelspec": {
   "display_name": "Python 3 (ipykernel)",
   "language": "python",
   "name": "python3"
  },
  "language_info": {
   "codemirror_mode": {
    "name": "ipython",
    "version": 3
   },
   "file_extension": ".py",
   "mimetype": "text/x-python",
   "name": "python",
   "nbconvert_exporter": "python",
   "pygments_lexer": "ipython3",
   "version": "3.9.7"
  }
 },
 "nbformat": 4,
 "nbformat_minor": 5
}
