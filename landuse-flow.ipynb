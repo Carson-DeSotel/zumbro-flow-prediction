{
 "cells": [
  {
   "cell_type": "markdown",
   "id": "06c0df10",
   "metadata": {},
   "source": [
    "# Impacts of Landuse on Water Flow Peaks\n",
    "by Martha Burket, Carson DeSotel  \n",
    "GEOG 5543  \n",
    "Fall 2021"
   ]
  },
  {
   "cell_type": "code",
   "execution_count": null,
   "id": "9e84f085",
   "metadata": {},
   "outputs": [],
   "source": []
  }
 ],
 "metadata": {
  "kernelspec": {
   "display_name": "Python 3 (ipykernel)",
   "language": "python",
   "name": "python3"
  },
  "language_info": {
   "codemirror_mode": {
    "name": "ipython",
    "version": 3
   },
   "file_extension": ".py",
   "mimetype": "text/x-python",
   "name": "python",
   "nbconvert_exporter": "python",
   "pygments_lexer": "ipython3",
   "version": "3.9.7"
  }
 },
 "nbformat": 4,
 "nbformat_minor": 5
}
