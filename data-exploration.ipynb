{
 "cells": [
  {
   "cell_type": "markdown",
   "id": "6bcf2ad2",
   "metadata": {},
   "source": [
    "# Exploration of Stream Flow and Precipitation Data\n",
    "by Martha Burket, Carson DeSotel  \n",
    "GEOG 5543  \n",
    "Fall 2021"
   ]
  },
  {
   "cell_type": "code",
   "execution_count": 2,
   "id": "78ca369f",
   "metadata": {},
   "outputs": [
    {
     "name": "stdout",
     "output_type": "stream",
     "text": [
      "Defaulting to user installation because normal site-packages is not writeable\n",
      "Requirement already satisfied: matplotlib in /home/carson/.local/lib/python3.9/site-packages (3.4.3)\n",
      "Requirement already satisfied: cycler>=0.10 in /home/carson/.local/lib/python3.9/site-packages (from matplotlib) (0.10.0)\n",
      "Requirement already satisfied: pyparsing>=2.2.1 in /usr/lib/python3.9/site-packages (from matplotlib) (2.4.7)\n",
      "Requirement already satisfied: numpy>=1.16 in /home/carson/.local/lib/python3.9/site-packages (from matplotlib) (1.21.2)\n",
      "Requirement already satisfied: kiwisolver>=1.0.1 in /home/carson/.local/lib/python3.9/site-packages (from matplotlib) (1.3.2)\n",
      "Requirement already satisfied: pillow>=6.2.0 in /home/carson/.local/lib/python3.9/site-packages (from matplotlib) (8.3.2)\n",
      "Requirement already satisfied: python-dateutil>=2.7 in /home/carson/.local/lib/python3.9/site-packages (from matplotlib) (2.8.2)\n",
      "Requirement already satisfied: six in /usr/lib/python3.9/site-packages (from cycler>=0.10->matplotlib) (1.16.0)\n",
      "Defaulting to user installation because normal site-packages is not writeable\n",
      "Requirement already satisfied: climata in /home/carson/.local/lib/python3.9/site-packages (0.5.0)\n",
      "Requirement already satisfied: wq.io>=0.7.0 in /home/carson/.local/lib/python3.9/site-packages (from climata) (1.1.0)\n",
      "Requirement already satisfied: owslib>=0.9 in /home/carson/.local/lib/python3.9/site-packages (from climata) (0.25.0)\n",
      "Requirement already satisfied: suds-jurko in /home/carson/.local/lib/python3.9/site-packages (from climata) (0.6)\n",
      "Requirement already satisfied: pyyaml in /home/carson/.local/lib/python3.9/site-packages (from owslib>=0.9->climata) (5.4.1)\n",
      "Requirement already satisfied: requests>=1.0 in /usr/lib/python3.9/site-packages (from owslib>=0.9->climata) (2.26.0)\n",
      "Requirement already satisfied: python-dateutil>=1.5 in /home/carson/.local/lib/python3.9/site-packages (from owslib>=0.9->climata) (2.8.2)\n",
      "Requirement already satisfied: pyproj>=2 in /home/carson/.local/lib/python3.9/site-packages (from owslib>=0.9->climata) (3.2.1)\n",
      "Requirement already satisfied: pytz in /home/carson/.local/lib/python3.9/site-packages (from owslib>=0.9->climata) (2021.3)\n",
      "Requirement already satisfied: certifi in /home/carson/.local/lib/python3.9/site-packages (from pyproj>=2->owslib>=0.9->climata) (2021.10.8)\n",
      "Requirement already satisfied: six>=1.5 in /usr/lib/python3.9/site-packages (from python-dateutil>=1.5->owslib>=0.9->climata) (1.16.0)\n",
      "Requirement already satisfied: chardet>=3.0.2 in /usr/lib/python3.9/site-packages (from requests>=1.0->owslib>=0.9->climata) (4.0.0)\n",
      "Requirement already satisfied: idna>=2.5 in /usr/lib/python3.9/site-packages (from requests>=1.0->owslib>=0.9->climata) (3.2)\n",
      "Requirement already satisfied: urllib3>=1.21.1 in /usr/lib/python3.9/site-packages (from requests>=1.0->owslib>=0.9->climata) (1.26.6)\n",
      "Requirement already satisfied: wq.core in /home/carson/.local/lib/python3.9/site-packages (from wq.io>=0.7.0->climata) (1.2.0)\n",
      "Requirement already satisfied: xlrd in /home/carson/.local/lib/python3.9/site-packages (from wq.io>=0.7.0->climata) (2.0.1)\n",
      "Requirement already satisfied: click<6 in /home/carson/.local/lib/python3.9/site-packages (from wq.core->wq.io>=0.7.0->climata) (5.1)\n"
     ]
    }
   ],
   "source": [
    "'''\n",
    "    Installation:\n",
    "    Run this cell to ensure that required packages are installed.\n",
    "'''\n",
    "import sys\n",
    "!{sys.executable} -m pip install matplotlib\n",
    "!{sys.executable} -m pip install climata"
   ]
  },
  {
   "cell_type": "code",
   "execution_count": 5,
   "id": "6f34c90e",
   "metadata": {},
   "outputs": [],
   "source": [
    "'''\n",
    "    Imports:\n",
    "    Run this cell to import required libraries.\n",
    "'''\n",
    "import pandas as pd\n",
    "import matplotlib.pyplot as plt\n",
    "import climata"
   ]
  },
  {
   "cell_type": "code",
   "execution_count": 4,
   "id": "1c414fc4",
   "metadata": {},
   "outputs": [],
   "source": [
    "'''\n",
    "    Constants:\n",
    "    Define constants for use through the Notebook.\n",
    "'''\n",
    "\n",
    "# Relevant codes for data are provided at reference [1], a short table of useful codes is at reference [2]\n",
    "_PRECIPITATION = '00045'\n",
    "_DISCHARGE     = '00060'"
   ]
  },
  {
   "cell_type": "markdown",
   "id": "a4b023fe",
   "metadata": {},
   "source": [
    "## What Data is Being Investigated?\n",
    "\n",
    "We are going to be looking at Minnesota stream sites that are being measured by the USGS in their NWIS. Their website which includes site locator and all the data we'll be using is located [here](https://waterdata.usgs.gov/nwis). We're keeping this local to Minnesota, as Minnesota has a diverse collection of more urban and rural streams, as well as active stream flow research being done. \n",
    "\n",
    "This Notebook will be used to look at stream flow and precipitation for all Minnesota sites over distinct periods of time."
   ]
  },
  {
   "cell_type": "code",
   "execution_count": 26,
   "id": "ae00a243",
   "metadata": {},
   "outputs": [
    {
     "name": "stdout",
     "output_type": "stream",
     "text": [
      "   SiteNumber                                           SiteName\n",
      "0    04024430              NEMADJI RIVER NEAR SOUTH SUPERIOR, WI\n",
      "1    05132000                    BIG FORK RIVER AT BIG FALLS, MN\n",
      "2    05207600  MISSISSIPPI RIVER AT WILLOW BEACH AT BALL CLUB...\n",
      "3    05227500                    MISSISSIPPI RIVER AT AITKIN, MN\n",
      "4    05289800  MINNEHAHA CREEK AT HIAWATHA AVE. IN MINNEAPOLI...\n",
      "5    05301000             MINNESOTA RIVER NEAR LAC QUI PARLE, MN\n",
      "6    05304500                      CHIPPEWA RIVER NEAR MILAN, MN\n",
      "7    05311000                  MINNESOTA RIVER AT MONTEVIDEO, MN\n",
      "8    05330000                    MINNESOTA RIVER NEAR JORDAN, MN\n",
      "9    05333500                   ST. CROIX RIVER NEAR DANBURY, WI\n",
      "10   05355024                      CANNON RIVER AT NORTHFIELD MN\n",
      "11   05372995           SOUTH FORK ZUMBRO RIVER AT ROCHESTER, MN\n",
      "12   05385000                        ROOT RIVER NEAR HOUSTON, MN\n",
      "13   05386400               MISSISSIPPI RIVER AT BROWNSVILLE, MN\n"
     ]
    }
   ],
   "source": [
    "'''\n",
    "    Display all sites of interest and their site number\n",
    "'''\n",
    "\n",
    "# apply converter to preserve leading zero in site code\n",
    "sites = pd.read_csv('sites.csv', converters = {'SiteNumber': lambda x: str(x)})\n",
    "print(sites[['SiteNumber', 'SiteName']])"
   ]
  },
  {
   "cell_type": "markdown",
   "id": "d3978860",
   "metadata": {},
   "source": [
    "## Isolated Stream Flow and Precipitation of Minnehaha Creek"
   ]
  },
  {
   "cell_type": "code",
   "execution_count": 42,
   "id": "10119bc7",
   "metadata": {},
   "outputs": [
    {
     "data": {
      "image/png": "[encoded data removed]",
      "text/plain": [
       "<Figure size 432x288 with 1 Axes>"
      ]
     },
     "metadata": {
      "needs_background": "light"
     },
     "output_type": "display_data"
    }
   ],
   "source": [
    "_site_code = '05289800'\n",
    "\n",
    "\n",
    "### calls are split into 2 as this class only allows one parameter code to be passed in\n",
    "flow_data = InstantValueIO(\n",
    "    start_date = '2021-10-03', # arbitrary time in October\n",
    "    end_date   = '2021-10-09',\n",
    "    station    = _site_code,   # plug in Minehaha Creek Code\n",
    "    parameter  = _DISCHARGE,   # plug in Discharge (ft^3 / s)\n",
    ")\n",
    "\n",
    "prec_data = InstantValueIO(\n",
    "    start_date = '2021-10-03',     # arbitrary time in October\n",
    "    end_date   = '2021-10-09',\n",
    "    station    = _site_code,       # plug in Minehaha Creek Code\n",
    "    parameter  = _PRECIPITATION,   # plug in Discharge (ft^3 / s)\n",
    ")\n",
    "\n",
    "# usage located at [4]\n",
    "# for datum in data:\n",
    "#     print(datum.site_code, datum.variable_code)\n",
    "#     for row in datum.data:\n",
    "#         print(row.date, row.value)\n",
    "\n",
    "\n",
    "# example code found at [3]\n",
    "for flow_series in flow_data:\n",
    "    flow   = [r[1] for r in flow_series.data]\n",
    "    dates = [r[0] for r in flow_series.data]\n",
    "    \n",
    "for prec_series in prec_data:\n",
    "    prec  = [r[1] for r in prec_series.data]\n",
    "    \n",
    "plt.plot(dates, flow)\n",
    "plt.plot(dates, prec)\n",
    "plt.xlabel('Date')\n",
    "plt.ylabel('Streamflow')\n",
    "plt.title(series.site_name)\n",
    "plt.xticks(rotation='vertical')\n",
    "plt.show()"
   ]
  },
  {
   "cell_type": "code",
   "execution_count": 44,
   "id": "4fdfcadb",
   "metadata": {},
   "outputs": [],
   "source": [
    "'''\n",
    "    Fetch example data from Minehaha Creek Collection Site\n",
    "'''\n",
    "import requests\n",
    "USGS_IV_URL = 'http://waterservices.usgs.gov/nwis/iv/'\n",
    "\n",
    "minehaha_site_code = '05289800'\n",
    "\n",
    "payload = {'site'    : minehaha_site_code, \n",
    "           'format'  : 'json', \n",
    "           'startDT' : '2021-10-01', # start & end date must be in ISO-8601 Format (yyyy-mm-dd)\n",
    "           'endDT'   : '2021-10-08',\n",
    "          }\n",
    "\n",
    "response = requests.get(USGS_IV_URL, params = payload)\n",
    "\n",
    "data = response.json()"
   ]
  },
  {
   "cell_type": "markdown",
   "id": "3847663d",
   "metadata": {},
   "source": [
    "## References:\n",
    "[1] https://help.waterdata.usgs.gov/code/parameter_cd_query?fmt=rdb&group_cd=PHY&inline=true  \n",
    "[2] https://cran.r-project.org/web/packages/dataRetrieval/vignettes/dataRetrieval.html  \n",
    "[3] https://www.earthdatascience.org/tutorials/acquire-and-visualize-usgs-hydrology-data/  \n",
    "[4] https://github.com/heigeo/climata/blob/master/climata/usgs/__init__.py   "
   ]
  }
 ],
 "metadata": {
  "kernelspec": {
   "display_name": "Python 3 (ipykernel)",
   "language": "python",
   "name": "python3"
  },
  "language_info": {
   "codemirror_mode": {
    "name": "ipython",
    "version": 3
   },
   "file_extension": ".py",
   "mimetype": "text/x-python",
   "name": "python",
   "nbconvert_exporter": "python",
   "pygments_lexer": "ipython3",
   "version": "3.9.7"
  }
 },
 "nbformat": 4,
 "nbformat_minor": 5
}
